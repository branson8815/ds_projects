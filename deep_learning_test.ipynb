{
 "cells": [
  {
   "cell_type": "code",
   "execution_count": null,
   "metadata": {},
   "outputs": [],
   "source": []
  },
  {
   "cell_type": "code",
   "execution_count": null,
   "metadata": {},
   "outputs": [],
   "source": []
  },
  {
   "cell_type": "code",
   "execution_count": 2,
   "metadata": {},
   "outputs": [],
   "source": [
    "#Want to practice using torch \n",
    "\n",
    "import torch\n",
    "import torchvision as vision\n",
    "import torchaudio as audio"
   ]
  },
  {
   "cell_type": "code",
   "execution_count": 5,
   "metadata": {},
   "outputs": [],
   "source": [
    "#importing several other packages that will be useful\n",
    "\n",
    "import matplotlib.pyplot as plt\n",
    "import pandas as pd\n",
    "import numpy as np"
   ]
  },
  {
   "cell_type": "code",
   "execution_count": 22,
   "metadata": {},
   "outputs": [
    {
     "name": "stdout",
     "output_type": "stream",
     "text": [
      "91\n"
     ]
    },
    {
     "data": {
      "text/plain": [
       "tensor([[ 46, 187],\n",
       "        [112, 382]])"
      ]
     },
     "execution_count": 22,
     "metadata": {},
     "output_type": "execute_result"
    }
   ],
   "source": [
    "list_1 = [1,2,3,4,5,6]\n",
    "list_2 = [1,2,3,4,5,6]\n",
    "\n",
    "tensor_1 = torch.tensor(list_1)\n",
    "tensor_2 = torch.tensor(list_2)\n",
    "\n",
    "# tensor_1\n",
    "# tensor_2\n",
    "\n",
    "mult = torch.matmul(tensor_1, tensor_2)\n",
    "\n",
    "mult\n",
    "\n",
    "#verifying the matrix multiplication\n",
    "print((1*1) + (2*2) + (3*3) +(4*4) + (5*5) + (6*6))\n",
    "\n",
    "\n",
    "#matrix multiplication with several different dimensions\n",
    "tensor_3 = torch.tensor([[1,2,3],[4,5,6]])\n",
    "tensor_4 = torch.tensor([[8,3],[4,2],[10,60]])\n",
    "\n",
    "torch.matmul(tensor_3, tensor_4)"
   ]
  },
  {
   "attachments": {},
   "cell_type": "markdown",
   "metadata": {},
   "source": []
  },
  {
   "cell_type": "code",
   "execution_count": null,
   "metadata": {},
   "outputs": [],
   "source": []
  }
 ],
 "metadata": {
  "kernelspec": {
   "display_name": "Python 3",
   "language": "python",
   "name": "python3"
  },
  "language_info": {
   "codemirror_mode": {
    "name": "ipython",
    "version": 3
   },
   "file_extension": ".py",
   "mimetype": "text/x-python",
   "name": "python",
   "nbconvert_exporter": "python",
   "pygments_lexer": "ipython3",
   "version": "3.8.18"
  },
  "orig_nbformat": 4
 },
 "nbformat": 4,
 "nbformat_minor": 2
}
